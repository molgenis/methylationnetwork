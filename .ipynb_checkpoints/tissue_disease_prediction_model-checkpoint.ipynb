{
 "cells": [
  {
   "cell_type": "code",
   "execution_count": 23,
   "metadata": {},
   "outputs": [],
   "source": [
    "import pandas as pd\n",
    "import seaborn as sns\n",
    "import numpy as np\n",
    "import pickle\n",
    "import matplotlib.pyplot as plt\n",
    "from sklearn.metrics import roc_auc_score, average_precision_score, f1_score, classification_report\n",
    "%matplotlib inline"
   ]
  },
  {
   "cell_type": "code",
   "execution_count": 54,
   "metadata": {},
   "outputs": [],
   "source": [
    "# input file paths\n",
    "tissue_model_path = \"./supplementary_materials/models/disease_tissue_predictions/tissue_predictions.pkl\"\n",
    "brain_cancer_model_path = \"./supplementary_materials/models/disease_tissue_predictions/brain_cancer_prediction.pkl\"\n",
    "brain_noncancer_disease_model_path = \"./supplementary_materials/models/disease_tissue_predictions/brain_noncancer_disease_prediction.pkl\"\n",
    "nose_disease_model_path = \"./supplementary_materials/models/disease_tissue_predictions/nasal_diseases.pkl\"\n",
    "\n",
    "methylation_pcs_data_path = \"./supplementary_materials/data/public_methylation_data_and_pca/PCs_individuals_public_methylation.npy\"\n",
    "methylation_pcs_cols_path = \"./supplementary_materials/data/public_methylation_data_and_pca/PCs_individuals_public_methylation.cols.txt\"\n",
    "methylation_pcs_rows_path = \"./supplementary_materials/data/public_methylation_data_and_pca/PCs_individuals_public_methylation.rows.txt\"\n",
    "\n",
    "# annotation for methylation data\n",
    "annotation_path = \"../supplementarytable5.xlsx\"\n",
    "metastasis_path = \"../supplementarytable3.tsv\""
   ]
  },
  {
   "cell_type": "code",
   "execution_count": 55,
   "metadata": {},
   "outputs": [
    {
     "name": "stdout",
     "output_type": "stream",
     "text": [
      "(26822, 109)\n"
     ]
    },
    {
     "data": {
      "text/html": [
       "<div>\n",
       "<style scoped>\n",
       "    .dataframe tbody tr th:only-of-type {\n",
       "        vertical-align: middle;\n",
       "    }\n",
       "\n",
       "    .dataframe tbody tr th {\n",
       "        vertical-align: top;\n",
       "    }\n",
       "\n",
       "    .dataframe thead th {\n",
       "        text-align: right;\n",
       "    }\n",
       "</style>\n",
       "<table border=\"1\" class=\"dataframe\">\n",
       "  <thead>\n",
       "    <tr style=\"text-align: right;\">\n",
       "      <th></th>\n",
       "      <th>PC0</th>\n",
       "      <th>PC1</th>\n",
       "      <th>PC2</th>\n",
       "      <th>PC3</th>\n",
       "      <th>PC4</th>\n",
       "      <th>PC5</th>\n",
       "      <th>PC6</th>\n",
       "      <th>PC7</th>\n",
       "      <th>PC8</th>\n",
       "      <th>PC9</th>\n",
       "      <th>...</th>\n",
       "      <th>PC99</th>\n",
       "      <th>gse</th>\n",
       "      <th>isCancer</th>\n",
       "      <th>cancer type</th>\n",
       "      <th>disease</th>\n",
       "      <th>tissue</th>\n",
       "      <th>tissue_prediction_model</th>\n",
       "      <th>brain_cancer_prediction_model</th>\n",
       "      <th>brain_noncancer_disease_prediction_model</th>\n",
       "      <th>nasal_prediction_model</th>\n",
       "    </tr>\n",
       "  </thead>\n",
       "  <tbody>\n",
       "    <tr>\n",
       "      <th>GSM1075838</th>\n",
       "      <td>481.460395</td>\n",
       "      <td>-9.123288</td>\n",
       "      <td>38.727435</td>\n",
       "      <td>103.503042</td>\n",
       "      <td>-46.335327</td>\n",
       "      <td>36.596970</td>\n",
       "      <td>-15.153881</td>\n",
       "      <td>11.033313</td>\n",
       "      <td>63.053721</td>\n",
       "      <td>7.258356</td>\n",
       "      <td>...</td>\n",
       "      <td>17.698643</td>\n",
       "      <td>GSE43976</td>\n",
       "      <td>False</td>\n",
       "      <td>NaN</td>\n",
       "      <td>multiple sclerosis</td>\n",
       "      <td>blood</td>\n",
       "      <td>Test</td>\n",
       "      <td>Not Involved in this model building</td>\n",
       "      <td>Not Involved in this model building</td>\n",
       "      <td>Not Involved in this model building</td>\n",
       "    </tr>\n",
       "    <tr>\n",
       "      <th>GSM1075839</th>\n",
       "      <td>500.990482</td>\n",
       "      <td>27.262211</td>\n",
       "      <td>22.285443</td>\n",
       "      <td>106.518224</td>\n",
       "      <td>-47.590027</td>\n",
       "      <td>23.176067</td>\n",
       "      <td>-35.630768</td>\n",
       "      <td>27.169378</td>\n",
       "      <td>56.418873</td>\n",
       "      <td>-20.202485</td>\n",
       "      <td>...</td>\n",
       "      <td>14.877680</td>\n",
       "      <td>GSE43976</td>\n",
       "      <td>False</td>\n",
       "      <td>NaN</td>\n",
       "      <td>multiple sclerosis</td>\n",
       "      <td>blood</td>\n",
       "      <td>Train</td>\n",
       "      <td>Not Involved in this model building</td>\n",
       "      <td>Not Involved in this model building</td>\n",
       "      <td>Not Involved in this model building</td>\n",
       "    </tr>\n",
       "    <tr>\n",
       "      <th>GSM1075840</th>\n",
       "      <td>478.125424</td>\n",
       "      <td>-3.934638</td>\n",
       "      <td>51.174822</td>\n",
       "      <td>113.388961</td>\n",
       "      <td>-48.428948</td>\n",
       "      <td>34.286050</td>\n",
       "      <td>-12.643661</td>\n",
       "      <td>21.147997</td>\n",
       "      <td>64.383558</td>\n",
       "      <td>4.521447</td>\n",
       "      <td>...</td>\n",
       "      <td>11.732406</td>\n",
       "      <td>GSE43976</td>\n",
       "      <td>False</td>\n",
       "      <td>NaN</td>\n",
       "      <td>multiple sclerosis</td>\n",
       "      <td>blood</td>\n",
       "      <td>Test</td>\n",
       "      <td>Not Involved in this model building</td>\n",
       "      <td>Not Involved in this model building</td>\n",
       "      <td>Not Involved in this model building</td>\n",
       "    </tr>\n",
       "    <tr>\n",
       "      <th>GSM1075841</th>\n",
       "      <td>439.484862</td>\n",
       "      <td>-45.321160</td>\n",
       "      <td>64.741855</td>\n",
       "      <td>84.372192</td>\n",
       "      <td>-59.115371</td>\n",
       "      <td>68.958302</td>\n",
       "      <td>18.916979</td>\n",
       "      <td>18.937671</td>\n",
       "      <td>65.244907</td>\n",
       "      <td>4.961580</td>\n",
       "      <td>...</td>\n",
       "      <td>1.927263</td>\n",
       "      <td>GSE43976</td>\n",
       "      <td>False</td>\n",
       "      <td>NaN</td>\n",
       "      <td>multiple sclerosis</td>\n",
       "      <td>blood</td>\n",
       "      <td>Train</td>\n",
       "      <td>Not Involved in this model building</td>\n",
       "      <td>Not Involved in this model building</td>\n",
       "      <td>Not Involved in this model building</td>\n",
       "    </tr>\n",
       "    <tr>\n",
       "      <th>GSM1075842</th>\n",
       "      <td>443.249739</td>\n",
       "      <td>-29.302349</td>\n",
       "      <td>62.553683</td>\n",
       "      <td>91.076963</td>\n",
       "      <td>-64.765149</td>\n",
       "      <td>69.548126</td>\n",
       "      <td>10.011499</td>\n",
       "      <td>18.069155</td>\n",
       "      <td>67.240676</td>\n",
       "      <td>-9.921091</td>\n",
       "      <td>...</td>\n",
       "      <td>3.088208</td>\n",
       "      <td>GSE43976</td>\n",
       "      <td>False</td>\n",
       "      <td>NaN</td>\n",
       "      <td>multiple sclerosis</td>\n",
       "      <td>blood</td>\n",
       "      <td>Test</td>\n",
       "      <td>Not Involved in this model building</td>\n",
       "      <td>Not Involved in this model building</td>\n",
       "      <td>Not Involved in this model building</td>\n",
       "    </tr>\n",
       "  </tbody>\n",
       "</table>\n",
       "<p>5 rows × 109 columns</p>\n",
       "</div>"
      ],
      "text/plain": [
       "                   PC0        PC1        PC2         PC3        PC4  \\\n",
       "GSM1075838  481.460395  -9.123288  38.727435  103.503042 -46.335327   \n",
       "GSM1075839  500.990482  27.262211  22.285443  106.518224 -47.590027   \n",
       "GSM1075840  478.125424  -3.934638  51.174822  113.388961 -48.428948   \n",
       "GSM1075841  439.484862 -45.321160  64.741855   84.372192 -59.115371   \n",
       "GSM1075842  443.249739 -29.302349  62.553683   91.076963 -64.765149   \n",
       "\n",
       "                  PC5        PC6        PC7        PC8        PC9  ...  \\\n",
       "GSM1075838  36.596970 -15.153881  11.033313  63.053721   7.258356  ...   \n",
       "GSM1075839  23.176067 -35.630768  27.169378  56.418873 -20.202485  ...   \n",
       "GSM1075840  34.286050 -12.643661  21.147997  64.383558   4.521447  ...   \n",
       "GSM1075841  68.958302  18.916979  18.937671  65.244907   4.961580  ...   \n",
       "GSM1075842  69.548126  10.011499  18.069155  67.240676  -9.921091  ...   \n",
       "\n",
       "                 PC99       gse  isCancer  cancer type             disease  \\\n",
       "GSM1075838  17.698643  GSE43976     False          NaN  multiple sclerosis   \n",
       "GSM1075839  14.877680  GSE43976     False          NaN  multiple sclerosis   \n",
       "GSM1075840  11.732406  GSE43976     False          NaN  multiple sclerosis   \n",
       "GSM1075841   1.927263  GSE43976     False          NaN  multiple sclerosis   \n",
       "GSM1075842   3.088208  GSE43976     False          NaN  multiple sclerosis   \n",
       "\n",
       "            tissue  tissue_prediction_model  \\\n",
       "GSM1075838   blood                     Test   \n",
       "GSM1075839   blood                    Train   \n",
       "GSM1075840   blood                     Test   \n",
       "GSM1075841   blood                    Train   \n",
       "GSM1075842   blood                     Test   \n",
       "\n",
       "                  brain_cancer_prediction_model  \\\n",
       "GSM1075838  Not Involved in this model building   \n",
       "GSM1075839  Not Involved in this model building   \n",
       "GSM1075840  Not Involved in this model building   \n",
       "GSM1075841  Not Involved in this model building   \n",
       "GSM1075842  Not Involved in this model building   \n",
       "\n",
       "            brain_noncancer_disease_prediction_model  \\\n",
       "GSM1075838       Not Involved in this model building   \n",
       "GSM1075839       Not Involved in this model building   \n",
       "GSM1075840       Not Involved in this model building   \n",
       "GSM1075841       Not Involved in this model building   \n",
       "GSM1075842       Not Involved in this model building   \n",
       "\n",
       "                         nasal_prediction_model  \n",
       "GSM1075838  Not Involved in this model building  \n",
       "GSM1075839  Not Involved in this model building  \n",
       "GSM1075840  Not Involved in this model building  \n",
       "GSM1075841  Not Involved in this model building  \n",
       "GSM1075842  Not Involved in this model building  \n",
       "\n",
       "[5 rows x 109 columns]"
      ]
     },
     "execution_count": 55,
     "metadata": {},
     "output_type": "execute_result"
    }
   ],
   "source": [
    "# load data\n",
    "pc_columns = [item.strip() for item in open(methylation_pcs_cols_path, 'r').readlines()]\n",
    "methylation_pcs = pd.DataFrame(data=np.load(methylation_pcs_data_path),\n",
    "                              index=[item.strip() for item in open(methylation_pcs_rows_path, 'r').readlines()],\n",
    "                              columns=pc_columns)\n",
    "methylation_annotations = pd.read_excel(annotation_path)\n",
    "\n",
    "annotated_methylation = pd.concat([methylation_pcs, methylation_annotations.set_index('gsm')], \n",
    "                                  axis=1, join='inner', sort=True)\n",
    "print(annotated_methylation.shape)\n",
    "annotated_methylation.head()"
   ]
  },
  {
   "cell_type": "code",
   "execution_count": 57,
   "metadata": {},
   "outputs": [
    {
     "data": {
      "text/plain": [
       "medulloblastoma                     158\n",
       "glioblastoma                        120\n",
       "glioma                              105\n",
       "astrocytoma                          76\n",
       "atypical teratoid rhabdoid           67\n",
       "neuroblastoma                        55\n",
       "schwannoma                           43\n",
       "diffuse intrinsic pontine glioma     12\n",
       "normal                                6\n",
       "Name: disease, dtype: int64"
      ]
     },
     "execution_count": 57,
     "metadata": {},
     "output_type": "execute_result"
    }
   ],
   "source": [
    "annotated_methylation['disease'][annotated_methylation['brain_cancer_prediction_model']=='Test'].value_counts()"
   ]
  },
  {
   "cell_type": "code",
   "execution_count": 27,
   "metadata": {},
   "outputs": [],
   "source": [
    "# load models\n",
    "tissue_model = pickle.load(open(tissue_model_path, 'rb'))\n",
    "brain_cancer_model = pickle.load(open(brain_cancer_model_path, 'rb'))\n",
    "brain_noncancer_disease_model = pickle.load(open(brain_noncancer_disease_model_path, 'rb'))\n",
    "nose_disease_model = pickle.load(open(nose_disease_model_path, 'rb'))"
   ]
  },
  {
   "cell_type": "markdown",
   "metadata": {},
   "source": [
    "# 1. Tissue prediction model"
   ]
  },
  {
   "cell_type": "code",
   "execution_count": 28,
   "metadata": {},
   "outputs": [],
   "source": [
    "def get_all_metrics(test_x, test_y, pipeline):\n",
    "    allclasses = pipeline.classes_\n",
    "    test_score = pipeline.predict_proba(test_x)\n",
    "    test_labels = pd.get_dummies(test_y)\n",
    "    test_predictions = pd.get_dummies(pd.Series(pipeline.predict(test_x)))\n",
    "    aucs = {}\n",
    "    aps = {}\n",
    "    f1_scores = {}\n",
    "\n",
    "    test_classes = set(test_y.unique())\n",
    "    for ind, name in enumerate(pipeline.classes_):\n",
    "        if name in test_classes:\n",
    "            aucs[name] = roc_auc_score(test_labels[name].values, test_score[:, ind])\n",
    "            aps[name] = average_precision_score(test_labels[name].values, test_score[:, ind])\n",
    "            f1_scores[name] = f1_score(test_labels[name].values, test_predictions[name].values)\n",
    "    \n",
    "    return aucs, aps, f1_scores"
   ]
  },
  {
   "cell_type": "code",
   "execution_count": 31,
   "metadata": {},
   "outputs": [
    {
     "name": "stdout",
     "output_type": "stream",
     "text": [
      "                   precision    recall  f1-score   support\n",
      "\n",
      "          adipose       0.97      0.99      0.98        75\n",
      "            blood       0.97      0.98      0.98      2112\n",
      "             bone       0.92      0.88      0.90       107\n",
      "              cns       0.99      0.99      0.99      1009\n",
      "connective tissue       0.89      0.97      0.92        89\n",
      "        embryonic       1.00      0.88      0.94        83\n",
      "          gonadal       0.96      0.96      0.96       470\n",
      "       intestinal       0.98      0.99      0.98       542\n",
      "             ipsc       0.96      0.93      0.95        46\n",
      "           kidney       0.97      0.95      0.96       113\n",
      "            liver       0.96      0.99      0.98       107\n",
      "             lung       0.98      0.96      0.97       193\n",
      "          mammary       1.00      1.00      1.00       416\n",
      "       morphology       0.96      0.96      0.96        23\n",
      "           muscle       1.00      0.94      0.97        34\n",
      "             nose       1.00      0.91      0.95        92\n",
      "             oral       0.94      0.98      0.96       204\n",
      "         pancreas       0.99      0.90      0.94        73\n",
      "         placenta       0.99      0.98      0.99       360\n",
      "           saliva       0.97      0.96      0.97       162\n",
      "             skin       0.94      0.94      0.94        54\n",
      "            sperm       1.00      1.00      1.00        89\n",
      "          thyroid       1.00      1.00      1.00        61\n",
      "        umbilical       0.84      0.82      0.83        44\n",
      "\n",
      "         accuracy                           0.97      6558\n",
      "        macro avg       0.97      0.95      0.96      6558\n",
      "     weighted avg       0.97      0.97      0.97      6558\n",
      "\n"
     ]
    }
   ],
   "source": [
    "tissue_test_x = annotated_methylation[pc_columns][annotated_methylation['tissue_prediction_model']=='Test']\n",
    "tissue_test_y = annotated_methylation['tissue'][annotated_methylation['tissue_prediction_model']=='Test']\n",
    "tissue_aucs, tissue_aps, tissue_f1_scores = get_all_metrics(tissue_test_x, tissue_test_y, tissue_model)\n",
    "\n",
    "tissue_test_pred = tissue_model.predict(tissue_test_x)\n",
    "print(classification_report(tissue_test_y, tissue_test_pred))"
   ]
  },
  {
   "cell_type": "code",
   "execution_count": null,
   "metadata": {},
   "outputs": [],
   "source": []
  },
  {
   "cell_type": "markdown",
   "metadata": {},
   "source": [
    "## 1.1 Apply to metastasis projects"
   ]
  },
  {
   "cell_type": "code",
   "execution_count": 32,
   "metadata": {},
   "outputs": [],
   "source": [
    "metastasis_gsms = pd.read_csv(metastasis_path, sep='\\t', index_col=0).index.values\n",
    "metastasis_x = annotated_methylation[pc_columns].loc[metastasis_gsms]\n",
    "metastasis_y = annotated_methylation['tissue'].loc[metastasis_gsms]"
   ]
  },
  {
   "cell_type": "code",
   "execution_count": 34,
   "metadata": {},
   "outputs": [
    {
     "name": "stdout",
     "output_type": "stream",
     "text": [
      "Accuracy with top prediction: 0.802547770700637\n",
      "with top3 predictions: 0.8980891719745223\n",
      "with top5 predictions: 0.9490445859872612\n"
     ]
    }
   ],
   "source": [
    "acc = tissue_model.score(metastasis_x, metastasis_y)\n",
    "prediction_scores = tissue_model.predict_proba(metastasis_x)\n",
    "allclasses = tissue_model.classes_\n",
    "prediction_rankings = np.argsort(prediction_scores, axis=1)\n",
    "predicted_tissues_ranked = np.take_along_axis(np.array([allclasses for i in range(prediction_rankings.shape[0])]), \n",
    "                   prediction_rankings, axis=1)[:, ::-1]\n",
    "acc_top3 = (metastasis_y == predicted_tissues_ranked[:, 0]).sum() / metastasis_y.shape[0] + \\\n",
    "(metastasis_y == predicted_tissues_ranked[:, 1]).sum() / metastasis_y.shape[0] + \\\n",
    "(metastasis_y == predicted_tissues_ranked[:, 2]).sum() / metastasis_y.shape[0]\n",
    "acc_top5 = (metastasis_y == predicted_tissues_ranked[:, 0]).sum() / metastasis_y.shape[0] + \\\n",
    "(metastasis_y == predicted_tissues_ranked[:, 1]).sum() / metastasis_y.shape[0] + \\\n",
    "(metastasis_y == predicted_tissues_ranked[:, 2]).sum() / metastasis_y.shape[0] + \\\n",
    "(metastasis_y == predicted_tissues_ranked[:, 3]).sum() / metastasis_y.shape[0] + \\\n",
    "(metastasis_y == predicted_tissues_ranked[:, 4]).sum() / metastasis_y.shape[0]\n",
    "\n",
    "print(f\"Accuracy with top prediction: {acc}\\nwith top3 predictions: {acc_top3}\\nwith top5 predictions: {acc_top5}\")"
   ]
  },
  {
   "cell_type": "markdown",
   "metadata": {},
   "source": [
    "# 2. Brain cancer prediction model"
   ]
  },
  {
   "cell_type": "code",
   "execution_count": 61,
   "metadata": {},
   "outputs": [
    {
     "name": "stdout",
     "output_type": "stream",
     "text": [
      "\n",
      "                            precision    recall  f1-score   support\n",
      "\n",
      "               astrocytoma       0.66      0.75      0.70        76\n",
      "atypical teratoid rhabdoid       1.00      1.00      1.00        67\n",
      "              glioblastoma       0.81      0.72      0.76       120\n",
      "                    glioma       0.93      0.97      0.95       117\n",
      "           medulloblastoma       1.00      1.00      1.00       158\n",
      "             neuroblastoma       1.00      1.00      1.00        55\n",
      "                    normal       1.00      0.33      0.50         6\n",
      "                schwannoma       1.00      1.00      1.00        43\n",
      "\n",
      "                  accuracy                           0.91       642\n",
      "                 macro avg       0.92      0.85      0.86       642\n",
      "              weighted avg       0.91      0.91      0.91       642\n",
      "\n"
     ]
    }
   ],
   "source": [
    "map_brain_cancer_types = {'low grade glioma': 'glioma', \n",
    "                          'diffuse intrinsic pontine glioma': 'glioma'}\n",
    "map_brain_cancer = lambda x:map_brain_cancer_types[x] if x in map_brain_cancer_types else x\n",
    "annotated_methylation['cancer type'] = [map_brain_cancer(cancer) for cancer in annotated_methylation['cancer type']]\n",
    "\n",
    "braincancer_test_x = annotated_methylation[pc_columns][annotated_methylation['brain_cancer_prediction_model']=='Test']\n",
    "braincancer_test_y = annotated_methylation['cancer type'][annotated_methylation['brain_cancer_prediction_model']=='Test']\n",
    "braincancer_aucs, braincancer_aps, braincancer_f1_scores = get_all_metrics(braincancer_test_x, \n",
    "                                                                           braincancer_test_y, \n",
    "                                                                           brain_cancer_model)\n",
    "print()\n",
    "braincancer_test_pred = brain_cancer_model.predict(braincancer_test_x)\n",
    "print(classification_report(braincancer_test_y, braincancer_test_pred))"
   ]
  },
  {
   "cell_type": "code",
   "execution_count": null,
   "metadata": {},
   "outputs": [],
   "source": []
  },
  {
   "cell_type": "markdown",
   "metadata": {},
   "source": [
    "# 3. Brain non-cancer disease prediction model"
   ]
  },
  {
   "cell_type": "code",
   "execution_count": 38,
   "metadata": {},
   "outputs": [
    {
     "name": "stdout",
     "output_type": "stream",
     "text": [
      "                                precision    recall  f1-score   support\n",
      "\n",
      "             alzheimer disease       0.75      0.84      0.79       117\n",
      "                        normal       0.80      0.73      0.76       137\n",
      "progressive supranuclear palsy       0.86      0.75      0.80        24\n",
      "        schizophrenia patients       0.86      1.00      0.92         6\n",
      "\n",
      "                      accuracy                           0.78       284\n",
      "                     macro avg       0.82      0.83      0.82       284\n",
      "                  weighted avg       0.78      0.78      0.78       284\n",
      "\n"
     ]
    }
   ],
   "source": [
    "brain_noncancer_test_x = annotated_methylation[pc_columns][annotated_methylation['brain_noncancer_disease_prediction_model']=='Test']\n",
    "brain_noncancer_test_y = annotated_methylation['disease'][annotated_methylation['brain_noncancer_disease_prediction_model']=='Test']\n",
    "brain_noncancer_aucs, braincancer_aps, braincancer_f1_scores = get_all_metrics(brain_noncancer_test_x, \n",
    "                                                                           brain_noncancer_test_y, \n",
    "                                                                           brain_noncancer_disease_model)\n",
    "\n",
    "brain_noncancer_test_pred = brain_noncancer_disease_model.predict(brain_noncancer_test_x)\n",
    "print(classification_report(brain_noncancer_test_y, brain_noncancer_test_pred))"
   ]
  },
  {
   "cell_type": "code",
   "execution_count": null,
   "metadata": {},
   "outputs": [],
   "source": []
  },
  {
   "cell_type": "markdown",
   "metadata": {},
   "source": [
    "# 4. Asthma (nose) prediction model"
   ]
  },
  {
   "cell_type": "code",
   "execution_count": 39,
   "metadata": {},
   "outputs": [
    {
     "name": "stdout",
     "output_type": "stream",
     "text": [
      "              precision    recall  f1-score   support\n",
      "\n",
      "      asthma       0.70      0.78      0.74        40\n",
      "      normal       0.73      0.65      0.69        37\n",
      "\n",
      "    accuracy                           0.71        77\n",
      "   macro avg       0.72      0.71      0.71        77\n",
      "weighted avg       0.72      0.71      0.71        77\n",
      "\n"
     ]
    }
   ],
   "source": [
    "nose_test_x = annotated_methylation[pc_columns][annotated_methylation['nasal_prediction_model']=='Test']\n",
    "nose_test_y = annotated_methylation['disease'][annotated_methylation['nasal_prediction_model']=='Test']\n",
    "nose_aucs, nose_aps, nose_f1_scores = get_all_metrics(nose_test_x, \n",
    "                                                      nose_test_y, \n",
    "                                                      nose_disease_model)\n",
    "\n",
    "nose_test_pred = nose_disease_model.predict(nose_test_x)\n",
    "print(classification_report(nose_test_y, nose_test_pred))"
   ]
  },
  {
   "cell_type": "code",
   "execution_count": null,
   "metadata": {},
   "outputs": [],
   "source": []
  }
 ],
 "metadata": {
  "kernelspec": {
   "display_name": "Python 3",
   "language": "python",
   "name": "python3"
  },
  "language_info": {
   "codemirror_mode": {
    "name": "ipython",
    "version": 3
   },
   "file_extension": ".py",
   "mimetype": "text/x-python",
   "name": "python",
   "nbconvert_exporter": "python",
   "pygments_lexer": "ipython3",
   "version": "3.7.5"
  }
 },
 "nbformat": 4,
 "nbformat_minor": 4
}
